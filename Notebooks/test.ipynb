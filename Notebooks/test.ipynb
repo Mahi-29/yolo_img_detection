{
 "cells": [
  {
   "cell_type": "code",
   "execution_count": 1,
   "metadata": {},
   "outputs": [],
   "source": [
    "import torch\n",
    "import cv2"
   ]
  },
  {
   "cell_type": "code",
   "execution_count": 59,
   "metadata": {},
   "outputs": [
    {
     "name": "stderr",
     "output_type": "stream",
     "text": [
      "Using cache found in /home/mahii/.cache/torch/hub/ultralytics_yolov5_master\n",
      "YOLOv5 🚀 2024-4-5 Python-3.11.8 torch-2.2.2+cu118 CUDA:0 (NVIDIA GeForce RTX 3060 Laptop GPU, 6144MiB)\n",
      "\n",
      "Fusing layers... \n",
      "YOLOv5x summary: 444 layers, 86705005 parameters, 0 gradients, 205.5 GFLOPs\n",
      "Adding AutoShape... \n"
     ]
    }
   ],
   "source": [
    "model = torch.hub.load('ultralytics/yolov5', 'yolov5x', pretrained=True)\n",
    "model.conf = 0.5\n",
    "model.iou = 0.45"
   ]
  },
  {
   "cell_type": "code",
   "execution_count": 1,
   "metadata": {},
   "outputs": [
    {
     "ename": "NameError",
     "evalue": "name 'cv2' is not defined",
     "output_type": "error",
     "traceback": [
      "\u001b[0;31m---------------------------------------------------------------------------\u001b[0m",
      "\u001b[0;31mNameError\u001b[0m                                 Traceback (most recent call last)",
      "Cell \u001b[0;32mIn[1], line 2\u001b[0m\n\u001b[1;32m      1\u001b[0m \u001b[38;5;66;03m# imgs = [\"input.jpg\"]\u001b[39;00m\n\u001b[0;32m----> 2\u001b[0m image \u001b[38;5;241m=\u001b[39m \u001b[43mcv2\u001b[49m\u001b[38;5;241m.\u001b[39mimread(\u001b[38;5;124m\"\u001b[39m\u001b[38;5;124minput.jpg\u001b[39m\u001b[38;5;124m\"\u001b[39m)\n\u001b[1;32m      4\u001b[0m results \u001b[38;5;241m=\u001b[39m model(image)\n",
      "\u001b[0;31mNameError\u001b[0m: name 'cv2' is not defined"
     ]
    }
   ],
   "source": [
    "# imgs = [\"input.jpg\"]\n",
    "image = cv2.imread(\"input.jpg\")\n",
    "\n",
    "results = model(image)"
   ]
  },
  {
   "cell_type": "code",
   "execution_count": 2,
   "metadata": {},
   "outputs": [],
   "source": [
    "# results.save()"
   ]
  },
  {
   "cell_type": "code",
   "execution_count": 72,
   "metadata": {},
   "outputs": [],
   "source": [
    "bbdata = results.pandas().xyxy[0]"
   ]
  },
  {
   "cell_type": "code",
   "execution_count": 73,
   "metadata": {},
   "outputs": [
    {
     "data": {
      "text/html": [
       "<div>\n",
       "<style scoped>\n",
       "    .dataframe tbody tr th:only-of-type {\n",
       "        vertical-align: middle;\n",
       "    }\n",
       "\n",
       "    .dataframe tbody tr th {\n",
       "        vertical-align: top;\n",
       "    }\n",
       "\n",
       "    .dataframe thead th {\n",
       "        text-align: right;\n",
       "    }\n",
       "</style>\n",
       "<table border=\"1\" class=\"dataframe\">\n",
       "  <thead>\n",
       "    <tr style=\"text-align: right;\">\n",
       "      <th></th>\n",
       "      <th>xmin</th>\n",
       "      <th>ymin</th>\n",
       "      <th>xmax</th>\n",
       "      <th>ymax</th>\n",
       "      <th>confidence</th>\n",
       "      <th>class</th>\n",
       "      <th>name</th>\n",
       "    </tr>\n",
       "  </thead>\n",
       "  <tbody>\n",
       "    <tr>\n",
       "      <th>0</th>\n",
       "      <td>131.525665</td>\n",
       "      <td>240.561768</td>\n",
       "      <td>465.335358</td>\n",
       "      <td>479.079468</td>\n",
       "      <td>0.947099</td>\n",
       "      <td>17</td>\n",
       "      <td>horse</td>\n",
       "    </tr>\n",
       "    <tr>\n",
       "      <th>1</th>\n",
       "      <td>254.255920</td>\n",
       "      <td>165.503998</td>\n",
       "      <td>337.158081</td>\n",
       "      <td>396.256500</td>\n",
       "      <td>0.882178</td>\n",
       "      <td>0</td>\n",
       "      <td>person</td>\n",
       "    </tr>\n",
       "    <tr>\n",
       "      <th>2</th>\n",
       "      <td>0.555950</td>\n",
       "      <td>277.725220</td>\n",
       "      <td>76.460709</td>\n",
       "      <td>478.946899</td>\n",
       "      <td>0.868826</td>\n",
       "      <td>17</td>\n",
       "      <td>horse</td>\n",
       "    </tr>\n",
       "    <tr>\n",
       "      <th>3</th>\n",
       "      <td>114.969124</td>\n",
       "      <td>270.802185</td>\n",
       "      <td>149.432251</td>\n",
       "      <td>397.788086</td>\n",
       "      <td>0.731347</td>\n",
       "      <td>0</td>\n",
       "      <td>person</td>\n",
       "    </tr>\n",
       "    <tr>\n",
       "      <th>4</th>\n",
       "      <td>560.527771</td>\n",
       "      <td>272.625061</td>\n",
       "      <td>597.225403</td>\n",
       "      <td>339.854370</td>\n",
       "      <td>0.694530</td>\n",
       "      <td>0</td>\n",
       "      <td>person</td>\n",
       "    </tr>\n",
       "    <tr>\n",
       "      <th>5</th>\n",
       "      <td>385.100281</td>\n",
       "      <td>269.469238</td>\n",
       "      <td>412.948181</td>\n",
       "      <td>302.541626</td>\n",
       "      <td>0.687204</td>\n",
       "      <td>0</td>\n",
       "      <td>person</td>\n",
       "    </tr>\n",
       "    <tr>\n",
       "      <th>6</th>\n",
       "      <td>515.085632</td>\n",
       "      <td>283.854889</td>\n",
       "      <td>561.164001</td>\n",
       "      <td>345.056732</td>\n",
       "      <td>0.618539</td>\n",
       "      <td>17</td>\n",
       "      <td>horse</td>\n",
       "    </tr>\n",
       "    <tr>\n",
       "      <th>7</th>\n",
       "      <td>508.591217</td>\n",
       "      <td>266.852081</td>\n",
       "      <td>571.459290</td>\n",
       "      <td>286.444733</td>\n",
       "      <td>0.560622</td>\n",
       "      <td>25</td>\n",
       "      <td>umbrella</td>\n",
       "    </tr>\n",
       "    <tr>\n",
       "      <th>8</th>\n",
       "      <td>49.456146</td>\n",
       "      <td>275.027496</td>\n",
       "      <td>79.452423</td>\n",
       "      <td>343.382233</td>\n",
       "      <td>0.553966</td>\n",
       "      <td>0</td>\n",
       "      <td>person</td>\n",
       "    </tr>\n",
       "    <tr>\n",
       "      <th>9</th>\n",
       "      <td>329.608582</td>\n",
       "      <td>245.430542</td>\n",
       "      <td>415.176819</td>\n",
       "      <td>275.319153</td>\n",
       "      <td>0.537373</td>\n",
       "      <td>25</td>\n",
       "      <td>umbrella</td>\n",
       "    </tr>\n",
       "  </tbody>\n",
       "</table>\n",
       "</div>"
      ],
      "text/plain": [
       "         xmin        ymin        xmax        ymax  confidence  class      name\n",
       "0  131.525665  240.561768  465.335358  479.079468    0.947099     17     horse\n",
       "1  254.255920  165.503998  337.158081  396.256500    0.882178      0    person\n",
       "2    0.555950  277.725220   76.460709  478.946899    0.868826     17     horse\n",
       "3  114.969124  270.802185  149.432251  397.788086    0.731347      0    person\n",
       "4  560.527771  272.625061  597.225403  339.854370    0.694530      0    person\n",
       "5  385.100281  269.469238  412.948181  302.541626    0.687204      0    person\n",
       "6  515.085632  283.854889  561.164001  345.056732    0.618539     17     horse\n",
       "7  508.591217  266.852081  571.459290  286.444733    0.560622     25  umbrella\n",
       "8   49.456146  275.027496   79.452423  343.382233    0.553966      0    person\n",
       "9  329.608582  245.430542  415.176819  275.319153    0.537373     25  umbrella"
      ]
     },
     "execution_count": 73,
     "metadata": {},
     "output_type": "execute_result"
    }
   ],
   "source": [
    "bbdata"
   ]
  },
  {
   "cell_type": "code",
   "execution_count": 74,
   "metadata": {},
   "outputs": [],
   "source": [
    "image = cv2.imread(\"input.jpg\")\n",
    "for i in range(len(bbdata)):\n",
    "    image = cv2.rectangle(image, (int(bbdata[\"xmin\"][i]), int(bbdata[\"ymin\"][i])), (int(bbdata[\"xmax\"][i]), int(bbdata[\"ymax\"][i])), (36,255,12), 1)\n",
    "    image = cv2.putText(image, f\"{bbdata['name'][i]} {round(bbdata['confidence'][i], 2)}\", (int(bbdata[\"xmin\"][i]), int(bbdata[\"ymin\"][i])-10), cv2.FONT_HERSHEY_SIMPLEX, 0.5, (36,255,12), 2)"
   ]
  },
  {
   "cell_type": "code",
   "execution_count": 75,
   "metadata": {},
   "outputs": [
    {
     "data": {
      "text/plain": [
       "True"
      ]
     },
     "execution_count": 75,
     "metadata": {},
     "output_type": "execute_result"
    }
   ],
   "source": [
    "cv2.imwrite(\"test.jpeg\", image)"
   ]
  },
  {
   "cell_type": "code",
   "execution_count": null,
   "metadata": {},
   "outputs": [],
   "source": []
  }
 ],
 "metadata": {
  "kernelspec": {
   "display_name": "yolo5",
   "language": "python",
   "name": "python3"
  },
  "language_info": {
   "codemirror_mode": {
    "name": "ipython",
    "version": 3
   },
   "file_extension": ".py",
   "mimetype": "text/x-python",
   "name": "python",
   "nbconvert_exporter": "python",
   "pygments_lexer": "ipython3",
   "version": "3.11.8"
  }
 },
 "nbformat": 4,
 "nbformat_minor": 2
}
